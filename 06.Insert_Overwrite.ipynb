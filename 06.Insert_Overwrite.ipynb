{
 "cells": [
  {
   "cell_type": "markdown",
   "metadata": {
    "application/vnd.databricks.v1+cell": {
     "cellMetadata": {},
     "inputWidgets": {},
     "nuid": "25707510-958a-4315-9da0-8a42daebf9f1",
     "showTitle": false,
     "tableResultSettingsMap": {},
     "title": ""
    }
   },
   "source": [
    "## Insert - Overwrite\n",
    "1. Replace all the data in a table.  \n",
    "2. Replace all the data from a specific partition\n",
    "3. How to handle schema changes"
   ]
  },
  {
   "cell_type": "markdown",
   "metadata": {
    "application/vnd.databricks.v1+cell": {
     "cellMetadata": {},
     "inputWidgets": {},
     "nuid": "696356b6-f88f-472c-b023-9408b483b792",
     "showTitle": false,
     "tableResultSettingsMap": {},
     "title": ""
    }
   },
   "source": [
    "INSERT OVERWRITE - Overwrites the existing data in a table or a specific partitoin with the new data    \n",
    "INSERT INTO - Appends new data"
   ]
  },
  {
   "cell_type": "markdown",
   "metadata": {
    "application/vnd.databricks.v1+cell": {
     "cellMetadata": {},
     "inputWidgets": {},
     "nuid": "8b5f7163-3d78-4556-9e33-41ee8ecbbafe",
     "showTitle": false,
     "tableResultSettingsMap": {},
     "title": ""
    }
   },
   "source": [
    "#### 1. Replace all the data in a table"
   ]
  },
  {
   "cell_type": "code",
   "execution_count": 0,
   "metadata": {
    "application/vnd.databricks.v1+cell": {
     "cellMetadata": {
      "byteLimit": 2048000,
      "rowLimit": 10000
     },
     "inputWidgets": {},
     "nuid": "967dbddb-096e-4ff4-abf5-b5cf3284d2b2",
     "showTitle": false,
     "tableResultSettingsMap": {},
     "title": ""
    }
   },
   "outputs": [],
   "source": [
    "\n",
    "DROP TABLE IF EXISTS demo.delta_lake.gold_companies;\n",
    "\n",
    "create table demo.delta_lake.gold_companies (\n",
    "company_name string,\n",
    "founded_date date,\n",
    "country string);\n",
    "\n",
    "insert into demo.delta_lake.gold_companies ( company_name, founded_date, country)\n",
    "values( \"Apple\" , \"1992-12-12\", \"USA\"),\n",
    "( \"Telcent\" , \"1922-12-11\", \"China\");\n",
    "\n",
    "select * FROM demo.delta_lake.gold_companies;"
   ]
  },
  {
   "cell_type": "code",
   "execution_count": 0,
   "metadata": {
    "application/vnd.databricks.v1+cell": {
     "cellMetadata": {
      "byteLimit": 2048000,
      "rowLimit": 10000
     },
     "inputWidgets": {},
     "nuid": "e206013e-6acb-403c-b176-8b1d417b4026",
     "showTitle": false,
     "tableResultSettingsMap": {},
     "title": ""
    }
   },
   "outputs": [],
   "source": [
    "DROP TABLE IF EXISTS demo.delta_lake.bronze_companies;\n",
    "\n",
    "create table demo.delta_lake.bronze_companies (\n",
    "company_name string,\n",
    "founded_date date,\n",
    "country string);\n",
    "\n",
    "insert into demo.delta_lake.bronze_companies ( company_name, founded_date, country)\n",
    "values\n",
    "( \"Apple\" , \"1992-12-12\", \"USA\"),\n",
    "( \"Telcent\" , \"1922-12-11\", \"China\"),\n",
    "( \"Microsoft\" , \"1991-12-12\", \"USA\"),\n",
    "( \"Google\" , \"1922-12-12\", \"USA\"),\n",
    "( \"Amazon\" , \"1392-12-12\", \"USA\");\n",
    "\n",
    "select * FROM demo.delta_lake.bronze_companies;"
   ]
  },
  {
   "cell_type": "code",
   "execution_count": 0,
   "metadata": {
    "application/vnd.databricks.v1+cell": {
     "cellMetadata": {
      "byteLimit": 2048000,
      "rowLimit": 10000
     },
     "inputWidgets": {},
     "nuid": "963c48ce-2f47-4bf6-b3d6-5c16737cf47e",
     "showTitle": false,
     "tableResultSettingsMap": {},
     "title": ""
    }
   },
   "outputs": [],
   "source": [
    "INSERT OVERWRITE TABLE demo.delta_lake.gold_companies\n",
    "SELECT * FROM demo.delta_lake.bronze_companies;"
   ]
  },
  {
   "cell_type": "code",
   "execution_count": 0,
   "metadata": {
    "application/vnd.databricks.v1+cell": {
     "cellMetadata": {
      "byteLimit": 2048000,
      "rowLimit": 10000
     },
     "inputWidgets": {},
     "nuid": "22b20868-2e4c-45fc-8323-a1f6b5bd3575",
     "showTitle": false,
     "tableResultSettingsMap": {},
     "title": ""
    }
   },
   "outputs": [],
   "source": [
    "desc history demo.delta_lake.gold_companies;"
   ]
  },
  {
   "cell_type": "markdown",
   "metadata": {
    "application/vnd.databricks.v1+cell": {
     "cellMetadata": {},
     "inputWidgets": {},
     "nuid": "ccc46bf2-9552-4852-b157-82abcd5b5c3b",
     "showTitle": false,
     "tableResultSettingsMap": {},
     "title": ""
    }
   },
   "source": [
    "#### 2. Replace all the data from a specific partition"
   ]
  },
  {
   "cell_type": "code",
   "execution_count": 0,
   "metadata": {
    "application/vnd.databricks.v1+cell": {
     "cellMetadata": {
      "byteLimit": 2048000,
      "rowLimit": 10000
     },
     "inputWidgets": {},
     "nuid": "cbe138a9-dc22-4d2d-b45e-bbed90704b50",
     "showTitle": false,
     "tableResultSettingsMap": {},
     "title": ""
    }
   },
   "outputs": [],
   "source": [
    "DROP TABLE IF EXISTS demo.delta_lake.gold_companies_partitioned;\n",
    "\n",
    "create table demo.delta_lake.gold_companies_partitioned (\n",
    "  company_name string,\n",
    "  founded_date date,\n",
    "  country string\n",
    ")\n",
    "PARTITIONED BY (country);\n",
    "\n",
    "insert into demo.delta_lake.gold_companies_partitioned ( company_name, founded_date, country)\n",
    "values( \"Apple\" , \"1992-12-12\", \"USA\"),\n",
    "( \"Telcent\" , \"1922-12-11\", \"China\");\n",
    "\n",
    "select * FROM demo.delta_lake.gold_companies_partitioned;"
   ]
  },
  {
   "cell_type": "code",
   "execution_count": 0,
   "metadata": {
    "application/vnd.databricks.v1+cell": {
     "cellMetadata": {
      "byteLimit": 2048000,
      "rowLimit": 10000
     },
     "inputWidgets": {},
     "nuid": "522817f0-b043-4358-b5b6-88e6834bcfae",
     "showTitle": false,
     "tableResultSettingsMap": {},
     "title": ""
    }
   },
   "outputs": [],
   "source": [
    "describe extended demo.delta_lake.gold_companies_partitioned"
   ]
  },
  {
   "cell_type": "code",
   "execution_count": 0,
   "metadata": {
    "application/vnd.databricks.v1+cell": {
     "cellMetadata": {
      "byteLimit": 2048000,
      "rowLimit": 10000
     },
     "inputWidgets": {},
     "nuid": "2803639e-2639-48ed-ab28-80b450545423",
     "showTitle": false,
     "tableResultSettingsMap": {},
     "title": ""
    }
   },
   "outputs": [],
   "source": [
    "DROP TABLE IF EXISTS demo.delta_lake.bronze_companies_usa;\n",
    "\n",
    "create table demo.delta_lake.bronze_companies_usa (\n",
    "  company_name string,\n",
    "  founded_date date,\n",
    "  country string\n",
    ");\n",
    "\n",
    "insert into demo.delta_lake.bronze_companies_usa ( company_name, founded_date, country)\n",
    "values( \"Apple\" , \"1992-12-12\", \"USA\"),\n",
    "( \"Microsoft\" , \"1991-12-12\", \"USA\"),\n",
    "( \"Google\" , \"1922-12-12\", \"USA\"),\n",
    "( \"Amazon\" , \"1392-12-12\", \"USA\");\n",
    "\n",
    "select * FROM demo.delta_lake.bronze_companies_usa;"
   ]
  },
  {
   "cell_type": "code",
   "execution_count": 0,
   "metadata": {
    "application/vnd.databricks.v1+cell": {
     "cellMetadata": {
      "byteLimit": 2048000,
      "rowLimit": 10000
     },
     "inputWidgets": {},
     "nuid": "4db35fe1-369e-4629-9567-299fbfe92651",
     "showTitle": false,
     "tableResultSettingsMap": {},
     "title": ""
    }
   },
   "outputs": [],
   "source": [
    "INSERT OVERWRITE TABLE demo.delta_lake.gold_companies_partitioned\n",
    "PARTITION (country='USA')\n",
    "SELECT \n",
    "    company_name,\n",
    "    founded_date\n",
    "FROM demo.delta_lake.bronze_companies_usa;"
   ]
  },
  {
   "cell_type": "code",
   "execution_count": 0,
   "metadata": {
    "application/vnd.databricks.v1+cell": {
     "cellMetadata": {
      "byteLimit": 2048000,
      "rowLimit": 10000
     },
     "inputWidgets": {},
     "nuid": "8cdda963-aea1-4dec-a791-9f56a7ad9123",
     "showTitle": false,
     "tableResultSettingsMap": {},
     "title": ""
    }
   },
   "outputs": [],
   "source": [
    "select * from demo.delta_lake.gold_companies_partitioned"
   ]
  }
 ],
 "metadata": {
  "application/vnd.databricks.v1+notebook": {
   "computePreferences": null,
   "dashboards": [],
   "environmentMetadata": {
    "base_environment": "",
    "environment_version": "2"
   },
   "inputWidgetPreferences": null,
   "language": "sql",
   "notebookMetadata": {
    "pythonIndentUnit": 4
   },
   "notebookName": "06.Insert_Overwrite",
   "widgets": {}
  },
  "language_info": {
   "name": "sql"
  }
 },
 "nbformat": 4,
 "nbformat_minor": 0
}
