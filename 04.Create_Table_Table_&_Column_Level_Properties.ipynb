{
 "cells": [
  {
   "cell_type": "markdown",
   "metadata": {
    "application/vnd.databricks.v1+cell": {
     "cellMetadata": {},
     "inputWidgets": {},
     "nuid": "bd5f0054-a09b-4958-85ad-f7fd9309d8c6",
     "showTitle": false,
     "tableResultSettingsMap": {},
     "title": ""
    }
   },
   "source": [
    "## Create Table - Table & Column level properties\n",
    "Demonstrate adding Table and Colum Properties to the CREATE TABLE Statement \n",
    "1. Table Properties   \n",
    "1.1. comment   \n",
    "1.2. TBLPROPERTIES\n",
    "\n",
    "2. Column Properties   \n",
    "2.1. NOT NULL   \n",
    "2.2. Comment   \n",
    "2.3. Generated identiy column   \n",
    "2.4. Generated computed column   "
   ]
  },
  {
   "cell_type": "markdown",
   "metadata": {
    "application/vnd.databricks.v1+cell": {
     "cellMetadata": {},
     "inputWidgets": {},
     "nuid": "d77ecbbb-d8d2-43a3-bb9e-2d0a621b8130",
     "showTitle": false,
     "tableResultSettingsMap": {},
     "title": ""
    }
   },
   "source": [
    "#### 1. Table Properties\n",
    "1.1. COMMENT - To document the purpose   \n",
    "1.2. TBLPROPERTIES - usecd to s;ecify the table level metadata or configurations settings   "
   ]
  },
  {
   "cell_type": "code",
   "execution_count": 0,
   "metadata": {
    "application/vnd.databricks.v1+cell": {
     "cellMetadata": {
      "byteLimit": 2048000,
      "implicitDf": true,
      "rowLimit": 10000
     },
     "inputWidgets": {},
     "nuid": "b9bb26e2-d31b-47da-852c-4299b4925b6b",
     "showTitle": false,
     "tableResultSettingsMap": {},
     "title": ""
    }
   },
   "outputs": [],
   "source": [
    "%sql\n",
    "drop table if exists demo.delta_lake.companies;\n",
    "\n",
    "create or replace table demo.delta_lake.companies\n",
    "(\n",
    "  company_name string,\n",
    "  founded_date date,\n",
    "  country string\n",
    "\n",
    ")\n",
    "comment 'company details'\n",
    "TBLPROPERTIES('sensitive'='true')"
   ]
  },
  {
   "cell_type": "code",
   "execution_count": 0,
   "metadata": {
    "application/vnd.databricks.v1+cell": {
     "cellMetadata": {
      "byteLimit": 2048000,
      "rowLimit": 10000
     },
     "inputWidgets": {},
     "nuid": "eeef7962-761c-4e8c-afac-ed0a72a130ce",
     "showTitle": false,
     "tableResultSettingsMap": {},
     "title": ""
    }
   },
   "outputs": [],
   "source": [
    "desc extended demo.delta_lake.companies"
   ]
  },
  {
   "cell_type": "code",
   "execution_count": 0,
   "metadata": {
    "application/vnd.databricks.v1+cell": {
     "cellMetadata": {
      "byteLimit": 2048000,
      "rowLimit": 10000
     },
     "inputWidgets": {},
     "nuid": "183bcdfc-2c32-4c58-aa6c-ddfd37b4301a",
     "showTitle": false,
     "tableResultSettingsMap": {},
     "title": ""
    }
   },
   "outputs": [],
   "source": [
    "SHOW TBLPROPERTIES demo.delta_lake.companies;"
   ]
  },
  {
   "cell_type": "markdown",
   "metadata": {
    "application/vnd.databricks.v1+cell": {
     "cellMetadata": {},
     "inputWidgets": {},
     "nuid": "67f61cae-b4f2-4e3c-8089-8d8297490e09",
     "showTitle": false,
     "tableResultSettingsMap": {},
     "title": ""
    }
   },
   "source": [
    "#### 2. Column Properties\n",
    "1. NOT NULL Constraints\n",
    "1. COMMENT"
   ]
  },
  {
   "cell_type": "code",
   "execution_count": 0,
   "metadata": {
    "application/vnd.databricks.v1+cell": {
     "cellMetadata": {
      "byteLimit": 2048000,
      "rowLimit": 10000
     },
     "inputWidgets": {},
     "nuid": "d814a269-3c7c-4601-8cb5-24a91c38af93",
     "showTitle": false,
     "tableResultSettingsMap": {},
     "title": ""
    }
   },
   "outputs": [],
   "source": [
    "drop table if exists demo.delta_lake.companies;\n",
    "create or replace table demo.delta_lake.companies\n",
    "(\n",
    "  company_name string NOT NULL,\n",
    "  founded_date date COMMENT 'Compony founted date',\n",
    "  country string\n",
    ")\n",
    "comment 'company details'\n",
    "TBLPROPERTIES('sensitive'='true')"
   ]
  },
  {
   "cell_type": "code",
   "execution_count": 0,
   "metadata": {
    "application/vnd.databricks.v1+cell": {
     "cellMetadata": {
      "byteLimit": 2048000,
      "rowLimit": 10000
     },
     "inputWidgets": {},
     "nuid": "45438222-1497-414c-9bb3-bc263510e65f",
     "showTitle": false,
     "tableResultSettingsMap": {},
     "title": ""
    }
   },
   "outputs": [],
   "source": [
    "desc extended demo.delta_lake.companies"
   ]
  },
  {
   "cell_type": "markdown",
   "metadata": {
    "application/vnd.databricks.v1+cell": {
     "cellMetadata": {},
     "inputWidgets": {},
     "nuid": "8192ae98-f864-403a-87b5-d3ea588ec431",
     "showTitle": false,
     "tableResultSettingsMap": {},
     "title": ""
    }
   },
   "source": [
    "### Generated columns\n",
    "1. Generated Identiy columm   : used to generate an identity : eg PrimaryKey\n",
    "1. Generated computed columns : values are derived by an expression"
   ]
  },
  {
   "cell_type": "markdown",
   "metadata": {
    "application/vnd.databricks.v1+cell": {
     "cellMetadata": {},
     "inputWidgets": {},
     "nuid": "95361329-85b2-4250-8b73-dadbc4879a8d",
     "showTitle": false,
     "tableResultSettingsMap": {},
     "title": ""
    }
   },
   "source": [
    "#### 1. Generated Identity Columns   \n",
    "GENERATED { ALWAYS | BY DEFAULT }  AS IDENTITY  [ ( [ START WITH start ]  [ INCREMENT BY Step ] ) ]"
   ]
  },
  {
   "cell_type": "code",
   "execution_count": 0,
   "metadata": {
    "application/vnd.databricks.v1+cell": {
     "cellMetadata": {
      "byteLimit": 2048000,
      "rowLimit": 10000
     },
     "inputWidgets": {},
     "nuid": "cb2b4a26-349d-4897-a2c3-c8730036aac3",
     "showTitle": false,
     "tableResultSettingsMap": {},
     "title": ""
    }
   },
   "outputs": [],
   "source": [
    "create or replace table demo.delta_lake.companies\n",
    "(\n",
    "  company_id bigint NOT NULL GENERATED ALWAYS AS IDENTITY (START WITH 1 INCREMENT BY 1),\n",
    "  company_name string NOT NULL,\n",
    "  founded_date date COMMENT 'Column level comment - Compony founted date',\n",
    "  country string\n",
    ")\n",
    "comment 'Table level comment - company details'\n",
    "TBLPROPERTIES('sensitive'='true')"
   ]
  },
  {
   "cell_type": "code",
   "execution_count": 0,
   "metadata": {
    "application/vnd.databricks.v1+cell": {
     "cellMetadata": {
      "byteLimit": 2048000,
      "rowLimit": 10000
     },
     "inputWidgets": {},
     "nuid": "9288d36e-68f2-4a13-93a7-8182f821cde8",
     "showTitle": false,
     "tableResultSettingsMap": {},
     "title": ""
    }
   },
   "outputs": [],
   "source": [
    "INSERT INTO demo.delta_lake.companies ( company_name, founded_date, country)\n",
    "VALUES('Apple', '2020-12-13','USA'),\n",
    "('Microsoft', '2020-12-13','USA'),\n",
    "('Google', '2020-12-13','USA');"
   ]
  },
  {
   "cell_type": "code",
   "execution_count": 0,
   "metadata": {
    "application/vnd.databricks.v1+cell": {
     "cellMetadata": {
      "byteLimit": 2048000,
      "rowLimit": 10000
     },
     "inputWidgets": {},
     "nuid": "a3cc1ced-abae-4fa2-b78a-a0a2106a7230",
     "showTitle": false,
     "tableResultSettingsMap": {},
     "title": ""
    }
   },
   "outputs": [],
   "source": [
    "select * from demo.delta_lake.companies"
   ]
  },
  {
   "cell_type": "markdown",
   "metadata": {
    "application/vnd.databricks.v1+cell": {
     "cellMetadata": {},
     "inputWidgets": {},
     "nuid": "67ca1216-0521-4807-8744-ff21415aa3c2",
     "showTitle": false,
     "tableResultSettingsMap": {},
     "title": ""
    }
   },
   "source": [
    "#### Generated computed columns\n",
    "GENERATED ALWAYS AS ( expr )"
   ]
  },
  {
   "cell_type": "code",
   "execution_count": 0,
   "metadata": {
    "application/vnd.databricks.v1+cell": {
     "cellMetadata": {
      "byteLimit": 2048000,
      "rowLimit": 10000
     },
     "inputWidgets": {},
     "nuid": "b6cb04db-3b33-46fa-9b4b-f5ba0e5147ea",
     "showTitle": false,
     "tableResultSettingsMap": {},
     "title": ""
    }
   },
   "outputs": [],
   "source": [
    "create or replace table demo.delta_lake.companies\n",
    "(\n",
    "  company_id BIGINT NOT NULL GENERATED ALWAYS AS IDENTITY (START WITH 1 INCREMENT BY 1),\n",
    "  company_name string NOT NULL,\n",
    "  founded_date date COMMENT 'Column level comment - Compony founted date',\n",
    "  founded_year int  GENERATED ALWAYS AS ( year(founded_date)),\n",
    "  country string\n",
    ")\n",
    "comment 'Table level comment - company details'\n",
    "TBLPROPERTIES('sensitive'='true')"
   ]
  },
  {
   "cell_type": "code",
   "execution_count": 0,
   "metadata": {
    "application/vnd.databricks.v1+cell": {
     "cellMetadata": {
      "byteLimit": 2048000,
      "rowLimit": 10000
     },
     "inputWidgets": {},
     "nuid": "79011aad-2b79-4fa6-b8f1-464eb07095ca",
     "showTitle": false,
     "tableResultSettingsMap": {},
     "title": ""
    }
   },
   "outputs": [],
   "source": [
    "INSERT INTO demo.delta_lake.companies ( company_name, founded_date, country)\n",
    "VALUES('Apple', '2020-12-13','USA'),\n",
    "('Microsoft', '2020-12-13','USA'),\n",
    "('Google', '2020-12-13','USA');"
   ]
  },
  {
   "cell_type": "code",
   "execution_count": 0,
   "metadata": {
    "application/vnd.databricks.v1+cell": {
     "cellMetadata": {
      "byteLimit": 2048000,
      "rowLimit": 10000
     },
     "inputWidgets": {},
     "nuid": "fc45e9a1-f46f-4c49-af14-c63fad48f271",
     "showTitle": false,
     "tableResultSettingsMap": {},
     "title": ""
    }
   },
   "outputs": [],
   "source": [
    "select * from demo.delta_lake.companies"
   ]
  }
 ],
 "metadata": {
  "application/vnd.databricks.v1+notebook": {
   "computePreferences": null,
   "dashboards": [],
   "environmentMetadata": {
    "base_environment": "",
    "environment_version": "2"
   },
   "inputWidgetPreferences": null,
   "language": "sql",
   "notebookMetadata": {
    "mostRecentlyExecutedCommandWithImplicitDF": {
     "commandId": -1,
     "dataframes": [
      "_sqldf"
     ]
    },
    "pythonIndentUnit": 4
   },
   "notebookName": "04.Create_Table_Table_&_Column_Level_Properties",
   "widgets": {}
  },
  "language_info": {
   "name": "sql"
  }
 },
 "nbformat": 4,
 "nbformat_minor": 0
}
